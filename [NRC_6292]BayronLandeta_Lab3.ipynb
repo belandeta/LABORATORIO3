{
 "cells": [
  {
   "cell_type": "code",
   "execution_count": 1,
   "id": "4b37e72f",
   "metadata": {},
   "outputs": [
    {
     "name": "stdout",
     "output_type": "stream",
     "text": [
      "Laboratorio 3 Regresión Líneal\n",
      "Nombre: Bayron Landeta\n",
      "ID: LOO376549\n"
     ]
    }
   ],
   "source": [
    "def nombre():\n",
    "    '''Laboratorio 3 Regresión Líneal\n",
    "Nombre: Bayron Landeta\n",
    "ID: LOO376549'''\n",
    "    \n",
    "print(nombre.__doc__)"
   ]
  },
  {
   "cell_type": "code",
   "execution_count": 4,
   "id": "75be7b65",
   "metadata": {},
   "outputs": [
    {
     "name": "stdout",
     "output_type": "stream",
     "text": [
      "Realizamos la importación de las librerías necesarias para el laboratorio de Regresión Líneal\n"
     ]
    }
   ],
   "source": [
    "def importacion():\n",
    "    '''Realizamos la importación de las librerías necesarias para el laboratorio de Regresión Líneal'''\n",
    "\n",
    "%matplotlib notebook\n",
    "\n",
    "import numpy as np\n",
    "import pandas as pd\n",
    "import matplotlib.pyplot as plt\n",
    "\n",
    "from scipy import stats\n",
    "from sklearn.model_selection import train_test_split \n",
    "\n",
    "print(importacion.__doc__)"
   ]
  },
  {
   "cell_type": "code",
   "execution_count": null,
   "id": "58b0f110",
   "metadata": {},
   "outputs": [],
   "source": []
  }
 ],
 "metadata": {
  "kernelspec": {
   "display_name": "Python 3 (ipykernel)",
   "language": "python",
   "name": "python3"
  },
  "language_info": {
   "codemirror_mode": {
    "name": "ipython",
    "version": 3
   },
   "file_extension": ".py",
   "mimetype": "text/x-python",
   "name": "python",
   "nbconvert_exporter": "python",
   "pygments_lexer": "ipython3",
   "version": "3.9.12"
  }
 },
 "nbformat": 4,
 "nbformat_minor": 5
}
