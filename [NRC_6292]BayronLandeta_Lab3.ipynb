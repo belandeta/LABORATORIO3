{
 "cells": [
  {
   "cell_type": "code",
   "execution_count": 17,
   "id": "4b37e72f",
   "metadata": {},
   "outputs": [
    {
     "name": "stdout",
     "output_type": "stream",
     "text": [
      "Laboratorio 3 Regresión Líneal\n",
      "Nombre: Bayron Landeta\n",
      "ID: LOO376549\n"
     ]
    }
   ],
   "source": [
    "def nombre():\n",
    "    '''Laboratorio 3 Regresión Líneal\n",
    "Nombre: Bayron Landeta\n",
    "ID: LOO376549'''\n",
    "    \n",
    "print(nombre.__doc__)"
   ]
  },
  {
   "cell_type": "code",
   "execution_count": 18,
   "id": "4c652be8",
   "metadata": {},
   "outputs": [
    {
     "name": "stdout",
     "output_type": "stream",
     "text": [
      "Realizamos la importación de las librerías necesarias para el laboratorio de Regresión Líneal\n"
     ]
    }
   ],
   "source": [
    "def importacion():\n",
    "    '''Realizamos la importación de las librerías necesarias para el laboratorio de Regresión Líneal'''\n",
    "\n",
    "%matplotlib notebook\n",
    "\n",
    "import numpy as np\n",
    "import pandas as pd\n",
    "import matplotlib.pyplot as plt\n",
    "\n",
    "from scipy import stats\n",
    "from sklearn.model_selection import train_test_split \n",
    "\n",
    "print(importacion.__doc__)"
   ]
  },
  {
   "cell_type": "code",
   "execution_count": 35,
   "id": "a877f8d1",
   "metadata": {},
   "outputs": [
    {
     "name": "stdout",
     "output_type": "stream",
     "text": [
      "Cargamos la base de datos del repositorio de Sklearn y lo imprimimos\n",
      "None\n"
     ]
    },
    {
     "data": {
      "text/html": [
       "<div>\n",
       "<style scoped>\n",
       "    .dataframe tbody tr th:only-of-type {\n",
       "        vertical-align: middle;\n",
       "    }\n",
       "\n",
       "    .dataframe tbody tr th {\n",
       "        vertical-align: top;\n",
       "    }\n",
       "\n",
       "    .dataframe thead th {\n",
       "        text-align: right;\n",
       "    }\n",
       "</style>\n",
       "<table border=\"1\" class=\"dataframe\">\n",
       "  <thead>\n",
       "    <tr style=\"text-align: right;\">\n",
       "      <th></th>\n",
       "      <th>Pregnancies</th>\n",
       "      <th>Glucose</th>\n",
       "      <th>BloodPressure</th>\n",
       "      <th>SkinThickness</th>\n",
       "      <th>Insulin</th>\n",
       "      <th>BMI</th>\n",
       "      <th>DiabetesPedigreeFunction</th>\n",
       "      <th>Age</th>\n",
       "      <th>Outcome</th>\n",
       "    </tr>\n",
       "  </thead>\n",
       "  <tbody>\n",
       "    <tr>\n",
       "      <th>0</th>\n",
       "      <td>6</td>\n",
       "      <td>148</td>\n",
       "      <td>72</td>\n",
       "      <td>35</td>\n",
       "      <td>0</td>\n",
       "      <td>33.6</td>\n",
       "      <td>0.627</td>\n",
       "      <td>50</td>\n",
       "      <td>1</td>\n",
       "    </tr>\n",
       "    <tr>\n",
       "      <th>1</th>\n",
       "      <td>1</td>\n",
       "      <td>85</td>\n",
       "      <td>66</td>\n",
       "      <td>29</td>\n",
       "      <td>0</td>\n",
       "      <td>26.6</td>\n",
       "      <td>0.351</td>\n",
       "      <td>31</td>\n",
       "      <td>0</td>\n",
       "    </tr>\n",
       "    <tr>\n",
       "      <th>2</th>\n",
       "      <td>8</td>\n",
       "      <td>183</td>\n",
       "      <td>64</td>\n",
       "      <td>0</td>\n",
       "      <td>0</td>\n",
       "      <td>23.3</td>\n",
       "      <td>0.672</td>\n",
       "      <td>32</td>\n",
       "      <td>1</td>\n",
       "    </tr>\n",
       "    <tr>\n",
       "      <th>3</th>\n",
       "      <td>1</td>\n",
       "      <td>89</td>\n",
       "      <td>66</td>\n",
       "      <td>23</td>\n",
       "      <td>94</td>\n",
       "      <td>28.1</td>\n",
       "      <td>0.167</td>\n",
       "      <td>21</td>\n",
       "      <td>0</td>\n",
       "    </tr>\n",
       "    <tr>\n",
       "      <th>4</th>\n",
       "      <td>0</td>\n",
       "      <td>137</td>\n",
       "      <td>40</td>\n",
       "      <td>35</td>\n",
       "      <td>168</td>\n",
       "      <td>43.1</td>\n",
       "      <td>2.288</td>\n",
       "      <td>33</td>\n",
       "      <td>1</td>\n",
       "    </tr>\n",
       "  </tbody>\n",
       "</table>\n",
       "</div>"
      ],
      "text/plain": [
       "   Pregnancies  Glucose  BloodPressure  SkinThickness  Insulin   BMI  \\\n",
       "0            6      148             72             35        0  33.6   \n",
       "1            1       85             66             29        0  26.6   \n",
       "2            8      183             64              0        0  23.3   \n",
       "3            1       89             66             23       94  28.1   \n",
       "4            0      137             40             35      168  43.1   \n",
       "\n",
       "   DiabetesPedigreeFunction  Age  Outcome  \n",
       "0                     0.627   50        1  \n",
       "1                     0.351   31        0  \n",
       "2                     0.672   32        1  \n",
       "3                     0.167   21        0  \n",
       "4                     2.288   33        1  "
      ]
     },
     "execution_count": 35,
     "metadata": {},
     "output_type": "execute_result"
    }
   ],
   "source": [
    "def cargar():\n",
    "    '''Cargamos la base de datos del repositorio de Sklearn y lo imprimimos'''\n",
    "print(cargar.__doc__)\n",
    "\n",
    "def importdataset():\n",
    "    df = pd.read_csv(\"diabetes.csv\")\n",
    "    print(df.head(10))\n",
    "    return df\n",
    "print(importdataset.__doc__)\n",
    "\n",
    "df.head()"
   ]
  },
  {
   "cell_type": "code",
   "execution_count": 36,
   "id": "c3a5000b",
   "metadata": {},
   "outputs": [
    {
     "name": "stdout",
     "output_type": "stream",
     "text": [
      "Determinación de variables objetivo (dependientes) y características (independientes)\n",
      "None\n"
     ]
    }
   ],
   "source": [
    "def car():\n",
    "    '''Determinación de variables objetivo (dependientes) y características (independientes)'''\n",
    "print(car.__doc__)\n",
    "\n",
    "def variables(df):\n",
    "  \n",
    "    # Dar valor a las variables\n",
    "    x = df['Glucose']\n",
    "    y = df['Outcome']\n",
    "    return x, y\n",
    "print(variables.__doc__)"
   ]
  },
  {
   "cell_type": "code",
   "execution_count": 37,
   "id": "d9761dad",
   "metadata": {},
   "outputs": [
    {
     "name": "stdout",
     "output_type": "stream",
     "text": [
      "Modelo (entrenamiento y test)\n",
      "Divide el conjunto de datos en una proporción de entrenamiento y de prueba\n",
      "None\n"
     ]
    }
   ],
   "source": [
    "def modelo():\n",
    "    '''Modelo (entrenamiento y test)\n",
    "Divide el conjunto de datos en una proporción de entrenamiento y de prueba'''\n",
    "print(modelo.__doc__)\n",
    "\n",
    "\n",
    "def train(x, y):\n",
    "    X_train, X_test, y_train, y_test = train_test_split(x,\n",
    "    y, test_size=0.6, random_state=109)\n",
    "    return X_train, X_test, y_train, y_test\n",
    "print(train.__doc__)"
   ]
  },
  {
   "cell_type": "code",
   "execution_count": 38,
   "id": "5a5e3f12",
   "metadata": {},
   "outputs": [
    {
     "name": "stdout",
     "output_type": "stream",
     "text": [
      "Calcular los valores ajustados para el eje “y” usando la correspondiente\n",
      "función auxiliar\n",
      "None\n"
     ]
    }
   ],
   "source": [
    "def pre():\n",
    "    '''Calcular los valores ajustados para el eje “y” usando la correspondiente\n",
    "función auxiliar'''\n",
    "print(pre.__doc__)\n",
    "\n",
    "def regresion(x, y):\n",
    "    slope, intercept, r, p, std_err = stats.linregress(x, y)\n",
    "    return slope, intercept, r, p, std_err\n",
    "print(regresion.__doc__)"
   ]
  },
  {
   "cell_type": "code",
   "execution_count": 39,
   "id": "6fb35912",
   "metadata": {},
   "outputs": [
    {
     "name": "stdout",
     "output_type": "stream",
     "text": [
      "Utilizar la función auxiliar que usa la pendiente e intersección\n",
      "None\n"
     ]
    }
   ],
   "source": [
    "def re():\n",
    "    '''Utilizar la función auxiliar que usa la pendiente e intersección'''\n",
    "print(re.__doc__)\n",
    "\n",
    "def funauxiliar(x, slope, intercept):\n",
    "    return slope * x + intercept\n",
    "print(funauxiliar.__doc__)"
   ]
  },
  {
   "cell_type": "code",
   "execution_count": 40,
   "id": "44219eaf",
   "metadata": {},
   "outputs": [
    {
     "name": "stdout",
     "output_type": "stream",
     "text": [
      "permitir y visualizar el modelo con los datos originales\n",
      "None\n"
     ]
    }
   ],
   "source": [
    "def gra():\n",
    "    '''permitir y visualizar el modelo con los datos originales'''\n",
    "print(gra.__doc__)\n",
    "\n",
    "def grafi(x, y, fitted_value):\n",
    "    new_values = list(fitted_value)\n",
    "    plt.plot(x, y, 'o', label='original data')\n",
    "    plt.plot(x, new_values, 'r', label='fitted line')\n",
    "    plt.legend()\n",
    "print(grafi.__doc__)"
   ]
  },
  {
   "cell_type": "code",
   "execution_count": null,
   "id": "60520f66",
   "metadata": {},
   "outputs": [],
   "source": []
  }
 ],
 "metadata": {
  "kernelspec": {
   "display_name": "Python 3 (ipykernel)",
   "language": "python",
   "name": "python3"
  },
  "language_info": {
   "codemirror_mode": {
    "name": "ipython",
    "version": 3
   },
   "file_extension": ".py",
   "mimetype": "text/x-python",
   "name": "python",
   "nbconvert_exporter": "python",
   "pygments_lexer": "ipython3",
   "version": "3.9.12"
  }
 },
 "nbformat": 4,
 "nbformat_minor": 5
}
